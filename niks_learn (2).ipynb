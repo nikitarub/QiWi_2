{
 "cells": [
  {
   "cell_type": "code",
   "execution_count": 141,
   "metadata": {
    "collapsed": false,
    "nbpresent": {
     "id": "5b1d41f9-5421-46c9-8434-5bf03f1eb8da"
    }
   },
   "outputs": [],
   "source": [
    "import pandas as pd\n",
    "import numpy as np\n",
    "\n",
    "#train\n",
    "profile_data = pd.read_csv(\"/mnt/mainstore/data/QiWi/Social_Demography/qiwi_users_profile_data_train.csv\", delimiter=';', encoding='cp1251', sep='\\t')\n",
    "trans_data_train = pd.read_csv(\"/mnt/mainstore/data/QiWi/Social_Demography/qiwi_money_out_data_train.csv\", delimiter=';', encoding='cp1251', sep='\\t')\n",
    "\n",
    "#test\n",
    "trans_data_test = pd.read_csv(\"/mnt/mainstore/data/QiWi/Social_Demography/qiwi_money_out_data_test.csv\", delimiter=';', encoding='cp1251', sep='\\t')\n",
    "profile_data_test = pd.read_csv(\"/mnt/mainstore/data/QiWi/Social_Demography/qiwi_users_profile_data_test.csv\", delimiter=';', encoding='cp1251', sep='\\t')\n",
    "\n",
    "\n"
   ]
  },
  {
   "cell_type": "code",
   "execution_count": 233,
   "metadata": {
    "collapsed": false
   },
   "outputs": [],
   "source": [
    "payment_table = pd.merge(profile_data,trans_data_train, on='user_id', how = 'right')\n",
    "\n",
    "payment_table_test = pd.merge(profile_data_test,trans_data_test, on='user_id', how = 'right')\n",
    "\n",
    "set1 = set(payment_table.category)\n",
    "set1 = [i for i in set1]\n",
    "set1.sort()\n",
    "\n",
    "set3.append('Файлообмен')\n",
    "set3 = list(set(set3))\n",
    "\n",
    "cat_dict = {one:index for index,one in enumerate(set3)}\n",
    "\n",
    "univ = payment_table.university\n",
    "univ = [i for i in univ]\n",
    "setted_univ = set(univ)\n",
    "setted_univ = [i for i in setted_univ]\n",
    "setted_univ.sort()\n",
    "#amount_univ = np.amount()\n",
    "\n",
    "univ_dict = {one:index for index,one in enumerate(setted_univ)}"
   ]
  },
  {
   "cell_type": "code",
   "execution_count": 183,
   "metadata": {
    "collapsed": false
   },
   "outputs": [
    {
     "data": {
      "text/plain": [
       "Index(['user_id', 'sex', 'age', 'university', 'graduation_year', 'category',\n",
       "       'date_month', 'txn_count', 'payment'],\n",
       "      dtype='object')"
      ]
     },
     "execution_count": 183,
     "metadata": {},
     "output_type": "execute_result"
    }
   ],
   "source": [
    "payment_table.columns"
   ]
  },
  {
   "cell_type": "code",
   "execution_count": 184,
   "metadata": {
    "collapsed": true
   },
   "outputs": [],
   "source": [
    "from collections import defaultdict"
   ]
  },
  {
   "cell_type": "code",
   "execution_count": 194,
   "metadata": {
    "collapsed": false
   },
   "outputs": [],
   "source": [
    "user_spendings = defaultdict(lambda: [0 for i in range(52)])\n",
    "user_cats = defaultdict(lambda: [0 for i in range(52)])\n",
    "for i, payment in payment_table.iterrows():\n",
    "    user_spendings[payment['user_id']][cat_dict[payment['category']]] += payment['payment']\n",
    "    user_cats[payment['user_id']][cat_dict[payment['category']]] += 1"
   ]
  },
  {
   "cell_type": "code",
   "execution_count": 195,
   "metadata": {
    "collapsed": false
   },
   "outputs": [],
   "source": [
    "for uid, value in user_cats.items():\n",
    "    user_cats[uid] = np.array(value) / sum(value)"
   ]
  },
  {
   "cell_type": "code",
   "execution_count": 205,
   "metadata": {
    "collapsed": false
   },
   "outputs": [],
   "source": [
    "matrix = []\n",
    "user_ids = list(user_cats.keys())\n",
    "for uid in user_ids:\n",
    "    matrix.append(np.concatenate([user_cats[uid], user_spendings[uid]]))"
   ]
  },
  {
   "cell_type": "code",
   "execution_count": 216,
   "metadata": {
    "collapsed": false
   },
   "outputs": [],
   "source": [
    "X = np.array(matrix)"
   ]
  },
  {
   "cell_type": "code",
   "execution_count": 234,
   "metadata": {
    "collapsed": false
   },
   "outputs": [],
   "source": [
    "Y_sex = (payment_table.sex.values[user_ids] == 'Муж').astype(int)\n",
    "Y_age = payment_table.age.values[user_ids]"
   ]
  },
  {
   "cell_type": "code",
   "execution_count": 221,
   "metadata": {
    "collapsed": true
   },
   "outputs": [],
   "source": [
    "user_spendings_test = defaultdict(lambda: [0 for i in range(52)])\n",
    "user_cats_test = defaultdict(lambda: [0 for i in range(52)])\n",
    "for i, payment in payment_table_test.iterrows():\n",
    "    user_spendings_test[payment['user_id']][cat_dict[payment['category']]] += payment['payment']\n",
    "    user_cats_test[payment['user_id']][cat_dict[payment['category']]] += 1"
   ]
  },
  {
   "cell_type": "code",
   "execution_count": 222,
   "metadata": {
    "collapsed": false
   },
   "outputs": [],
   "source": [
    "for uid, value in user_cats_test.items():\n",
    "    user_cats_test[uid] = np.array(value) / sum(value)"
   ]
  },
  {
   "cell_type": "code",
   "execution_count": 243,
   "metadata": {
    "collapsed": true
   },
   "outputs": [],
   "source": [
    "matrix_test = []\n",
    "user_ids_test = list(user_cats_test.keys())\n",
    "for uid in user_ids_test:\n",
    "    matrix_test.append(np.concatenate([user_cats_test[uid], user_spendings_test[uid]]))"
   ]
  },
  {
   "cell_type": "code",
   "execution_count": 244,
   "metadata": {
    "collapsed": true
   },
   "outputs": [],
   "source": [
    "X_test = np.array(matrix_test)"
   ]
  },
  {
   "cell_type": "code",
   "execution_count": 266,
   "metadata": {
    "collapsed": false
   },
   "outputs": [],
   "source": [
    "from sklearn.ensemble import RandomForestClassifier,GradientBoostingClassifier,GradientBoostingRegressor\n",
    "\n",
    "#X_train, X_test1, y_train, y_test1 = cross_validation.train_test_split(X, Y, test_size=0.2)\n",
    "\n",
    "\n",
    "#clf = RandomForestClassifier(n_estimators=200, max_depth=10, n_jobs=20)\n",
    "clf = GradientBoostingClassifier(subsample=0.5, n_estimators=200, max_depth=12)\n",
    "reg = GradientBoostingRegressor(subsample=0.5, n_estimators=200, max_depth=12)\n",
    "clf.fit(X,Y_sex)\n",
    "reg.fit(X,Y_age)\n",
    "#clf.score(X_test1,y_test1)\n",
    "\n",
    "sexes = clf.predict(X_test)\n",
    "ages = reg.predict(X_test)"
   ]
  },
  {
   "cell_type": "code",
   "execution_count": 291,
   "metadata": {
    "collapsed": false
   },
   "outputs": [
    {
     "data": {
      "text/plain": [
       "15205"
      ]
     },
     "execution_count": 291,
     "metadata": {},
     "output_type": "execute_result"
    }
   ],
   "source": [
    "#ages.min()\n",
    "\n",
    "sex1 = [i for i in sexes]\n",
    "\n",
    "sex1.count(1)"
   ]
  },
  {
   "cell_type": "code",
   "execution_count": 268,
   "metadata": {
    "collapsed": true
   },
   "outputs": [],
   "source": [
    "from collections import OrderedDict"
   ]
  },
  {
   "cell_type": "code",
   "execution_count": 269,
   "metadata": {
    "collapsed": false
   },
   "outputs": [],
   "source": [
    "answer = pd.DataFrame(OrderedDict(user_id=user_ids_test, sex=sexes, age=ages))[['user_id', 'sex', 'age']]"
   ]
  },
  {
   "cell_type": "code",
   "execution_count": 281,
   "metadata": {
    "collapsed": false
   },
   "outputs": [],
   "source": [
    "answer.sex = answer.sex.apply(lambda x: 'Жен' if x == 0 else 'Муж')\n",
    "answer.age = answer.age.astype(int)"
   ]
  },
  {
   "cell_type": "code",
   "execution_count": 284,
   "metadata": {
    "collapsed": true
   },
   "outputs": [],
   "source": [
    "answer.to_csv('riteam_qiwi_2.csv', index=False)"
   ]
  },
  {
   "cell_type": "code",
   "execution_count": 286,
   "metadata": {
    "collapsed": false
   },
   "outputs": [
    {
     "name": "stdout",
     "output_type": "stream",
     "text": [
      "user_id,sex,age\r\n",
      "1,Муж,36\r\n",
      "2,Муж,36\r\n",
      "3,Муж,36\r\n",
      "4,Муж,33\r\n",
      "5,Муж,36\r\n",
      "6,Муж,32\r\n",
      "7,Муж,36\r\n",
      "8,Муж,36\r\n",
      "9,Муж,36\r\n"
     ]
    }
   ],
   "source": [
    "!head riteam_qiwi_2.csv"
   ]
  },
  {
   "cell_type": "code",
   "execution_count": 3,
   "metadata": {
    "collapsed": true,
    "nbpresent": {
     "id": "b0fa59ee-0575-4001-b116-6fdcdfb2be3e"
    }
   },
   "outputs": [],
   "source": [
    "\n",
    "catigory_dict = {\n",
    " 'IP-телефония':0,\n",
    " 'MCMS':1,\n",
    " 'MLM':2,\n",
    " 'QVC':3,\n",
    " 'QVP':4,\n",
    " 'QVV':5,\n",
    " 'Sim-карты для туристов':6,\n",
    " 'VPP':7,\n",
    " 'Абонентское обслуживание':8,\n",
    " 'Авиабилеты':9,\n",
    " 'Билеты в кино':10,\n",
    " 'Билеты на зрелища':11,\n",
    " 'Благотворительность':12,\n",
    " 'Бронирование гостиниц':13,\n",
    " 'Букмекеры':14,\n",
    " 'Госуслуги':15,\n",
    " 'Грузоперевозки и доставка':16,\n",
    " 'Денежные переводы':17,\n",
    " 'Ж/Д билеты':18,\n",
    " 'ЖКУ':19,\n",
    " 'Игры со ставками':20,\n",
    " 'Интернет':21,\n",
    " 'Интернет магазины':22,\n",
    " 'Информационные услуги':23,\n",
    " 'Коллекторские агентства':24,\n",
    " 'Контент':25,\n",
    " 'Купоны':26,\n",
    " 'Лотереи':27,\n",
    " 'Международная/междугородняя связь':28,\n",
    " 'Местная связь':29,\n",
    " 'Образовательные услуги':30,\n",
    " 'Онлайн игры':31,\n",
    " 'Онлайн общение':32,\n",
    " 'Оплата подписки':34,\n",
    " 'Охранные системы':35,\n",
    " 'Переводы без открытия счета по свободным реквизитам':36,\n",
    " 'Погашение кредитов':37,\n",
    " 'Предоставление займов':38,\n",
    " 'Радио':39,\n",
    " 'Регистрация доменов':40,\n",
    " 'Служебная':41,\n",
    " 'Создание и дизайн сайтов, трафик':42,\n",
    " 'Сотовая связь':43,\n",
    " 'Страхование':44,\n",
    " 'Такси':45,\n",
    " 'Телевидение':46,\n",
    " 'Транспортные карты':47,\n",
    " 'Туристический продукт':48,\n",
    " 'Форекс':49,\n",
    " 'Хостинг':50,\n",
    " 'Электронные деньги':51}\n",
    "\n",
    "sex_dict = {\n",
    "    'Муж':1,\n",
    "    'Жен':-1\n",
    "}\n",
    "\n",
    "date_m = {\n",
    "    '2016-06':6,\n",
    "    '2016-07':7,\n",
    "    '2016-08':8,\n",
    "    '2016-09':9,\n",
    "    '2016-10':10,\n",
    "    '2016-11':11,\n",
    "    '2016-12':12\n",
    "}\n"
   ]
  },
  {
   "cell_type": "code",
   "execution_count": 117,
   "metadata": {
    "collapsed": false,
    "nbpresent": {
     "id": "dd8ebbf4-b552-4d40-8622-e752ee97730c"
    }
   },
   "outputs": [
    {
     "data": {
      "text/plain": [
       "407"
      ]
     },
     "execution_count": 117,
     "metadata": {},
     "output_type": "execute_result"
    }
   ],
   "source": [
    "\n",
    "from sklearn.tree import DecisionTreeClassifier\n",
    "import matplotlib.pyplot as plt\n",
    "\n",
    "\n",
    "mlms = payment_table[payment_table.category == 'MLM']\n",
    "\n",
    "#univ = payment_table[(payment_table.university == 'МГТУ им. Баумана')&(payment_table.sex == \"Муж\")]\n",
    "#univ[univ.user_id == ]\n",
    "univ = payment_table.university\n",
    "univ = [i for i in univ]\n",
    "setted_univ = set(univ)\n",
    "setted_univ = [i for i in setted_univ]\n",
    "setted_univ.sort()\n",
    "#amount_univ = np.amount()\n",
    "\n",
    "univ_dict = {one:index for index,one in enumerate(setted_univ)}\n",
    "\n",
    "len(univ_dict)\n",
    "\n",
    "\n",
    "\n",
    "\n",
    "#univ_name_and_pop\n",
    "#univ\n",
    "\n",
    "\n",
    "#features = [[catigory_dict[payment_table.category[i]],payment_table.payment[i],date_m[payment_table.date_month[i]]] for i in range(len(payment_table))]\n",
    "#lables = [sex_dict[payment_table.sex[i]] for i in range(len(payment_table))]\n",
    "\n",
    "#model = DecisionTreeClassifier()\n",
    "#model.fit(features,lables)\n",
    "\n",
    "\n",
    "\n",
    "#result = model.predict([43,300,10])\n",
    "#mlms\n",
    "\n",
    "#result\n"
   ]
  },
  {
   "cell_type": "code",
   "execution_count": null,
   "metadata": {
    "collapsed": true,
    "nbpresent": {
     "id": "a7560b4a-8e9c-4a94-a6fb-10d30eb4c66a"
    }
   },
   "outputs": [],
   "source": [
    "\n",
    "\n"
   ]
  },
  {
   "cell_type": "code",
   "execution_count": 128,
   "metadata": {
    "collapsed": false,
    "nbpresent": {
     "id": "c129d76b-af2c-4d89-8a1e-14e4fa8170cb"
    }
   },
   "outputs": [
    {
     "name": "stderr",
     "output_type": "stream",
     "text": [
      "/anaconda3/lib/python3.5/site-packages/sklearn/utils/validation.py:429: DataConversionWarning: Data with input dtype int64 was converted to float64 by the scale function.\n",
      "  warnings.warn(msg, _DataConversionWarning)\n"
     ]
    },
    {
     "data": {
      "text/plain": [
       "0.81469338751385301"
      ]
     },
     "execution_count": 128,
     "metadata": {},
     "output_type": "execute_result"
    }
   ],
   "source": [
    "from sklearn import preprocessing,cross_validation\n",
    "from sklearn.ensemble import RandomForestClassifier, GradientBoostingClassifier\n",
    "from sklearn.tree import DecisionTreeClassifier\n",
    "from sklearn.linear_model import LogisticRegression\n",
    "#from xgboost import XGBClassifier\n",
    "\n",
    "\n",
    "features = [[cat_dict[payment_table.category[i]],univ_dict[payment_table.university[i]],payment_table.payment[i]] for i in range(len(payment_table))]\n",
    "lables = [sex_dict[payment_table.sex[i]] for i in range(len(payment_table))]\n",
    "\n",
    "features_test = [[cat_dict[payment_table_test.category[i]],univ_dict[payment_table_test.university[i]],payment_table_test.payment[i]] for i in range(len(payment_table_test))]  \n",
    "\n",
    "\n",
    "X = np.array(features)\n",
    "y = np.array(lables)\n",
    "\n",
    "X = preprocessing.scale(X)\n",
    "features_test = preprocessing.scale(features_test)\n",
    "\n",
    "\n",
    "\n",
    "#print(len(X),len(y))\n",
    "\n",
    "X_train, X_test, y_train, y_test = cross_validation.train_test_split(X, y, test_size=0.2)\n",
    "\n",
    "#clf = xgb.XGBClassifier(silent=False, nthread=4, max_depth=10, n_estimators=800, subsample=0.5, learning_rate=0.03)\n",
    "#clf = RandomForestClassifier(n_estimators=200, max_depth=10, n_jobs=20)\n",
    "#clf = GradientBoostingClassifier(subsample=0.5,max_depth=6)\n",
    "\n",
    "#clf.fit(X_train,y_train)\n",
    "\n",
    "#acc = clf.score(X_test,y_test)\n",
    "acc\n",
    "\n",
    "#result = clf.predict(features_test)\n",
    "\n",
    "#print(result[2000:3000])\n",
    "#ras_mass = [i for i in result]\n",
    "\n",
    "#print(result[:1000])\n",
    "\n",
    "#print('\\n\\n',ras_mass[:1000])\n",
    "#print('women part: ', (ras_mass.count(-1)/len(res_mas))*100)\n",
    "\n",
    "#print(ras_mass.count(-1))\n"
   ]
  },
  {
   "cell_type": "code",
   "execution_count": null,
   "metadata": {
    "collapsed": true,
    "nbpresent": {
     "id": "03457665-c335-43dd-8b2c-7b3a6ea17e5b"
    }
   },
   "outputs": [],
   "source": [
    "\n",
    "\n",
    "\n"
   ]
  },
  {
   "cell_type": "code",
   "execution_count": null,
   "metadata": {
    "collapsed": true,
    "nbpresent": {
     "id": "839b73fa-c691-4892-a3be-9ff3e2af9693"
    }
   },
   "outputs": [],
   "source": []
  }
 ],
 "metadata": {
  "anaconda-cloud": {},
  "kernelspec": {
   "display_name": "Python [conda root]",
   "language": "python",
   "name": "conda-root-py"
  },
  "language_info": {
   "codemirror_mode": {
    "name": "ipython",
    "version": 3
   },
   "file_extension": ".py",
   "mimetype": "text/x-python",
   "name": "python",
   "nbconvert_exporter": "python",
   "pygments_lexer": "ipython3",
   "version": "3.5.2"
  }
 },
 "nbformat": 4,
 "nbformat_minor": 1
}
